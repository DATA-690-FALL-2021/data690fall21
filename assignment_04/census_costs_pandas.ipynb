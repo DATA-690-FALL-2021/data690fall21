{
  "nbformat": 4,
  "nbformat_minor": 0,
  "metadata": {
    "colab": {
      "name": "census_costs_pandas.ipynb",
      "provenance": [],
      "collapsed_sections": [],
      "authorship_tag": "ABX9TyMqFf761fizeUCMuiYcpjsR",
      "include_colab_link": true
    },
    "kernelspec": {
      "name": "python3",
      "display_name": "Python 3"
    },
    "language_info": {
      "name": "python"
    }
  },
  "cells": [
    {
      "cell_type": "markdown",
      "metadata": {
        "id": "view-in-github",
        "colab_type": "text"
      },
      "source": [
        "<a href=\"https://colab.research.google.com/github/wcj365/data690fall21/blob/main/assignment_04/census_costs_pandas.ipynb\" target=\"_parent\"><img src=\"https://colab.research.google.com/assets/colab-badge.svg\" alt=\"Open In Colab\"/></a>"
      ]
    },
    {
      "cell_type": "markdown",
      "metadata": {
        "id": "OK1OKyh-1QYj"
      },
      "source": [
        "\n",
        "# Census Costs Data Cleansing with Pandas"
      ]
    },
    {
      "cell_type": "code",
      "metadata": {
        "id": "GzP92vc31TBF"
      },
      "source": [
        "import pandas as pd\n",
        "\n",
        "pd.set_option(\"display.max_columns\", 20)\n"
      ],
      "execution_count": 11,
      "outputs": []
    },
    {
      "cell_type": "code",
      "metadata": {
        "id": "k_mn3ndE1-Yk",
        "colab": {
          "base_uri": "https://localhost:8080/"
        },
        "outputId": "8c0dddeb-9c8d-4ff7-f8ed-6a6b35702f1c"
      },
      "source": [
        "df = pd.read_csv(\"https://raw.githubusercontent.com/wcj365/data690fall21/main/assignment_04/census_costs.txt\", sep=\"\\t\", skiprows=1)\n",
        "print(df)"
      ],
      "execution_count": 4,
      "outputs": [
        {
          "output_type": "stream",
          "name": "stdout",
          "text": [
            "   Census Year Total Population     Census Cost Average Cost Per Person\n",
            "0         1790        3,929,214         $44,377              1.13 cents\n",
            "1         1800        5,308,483         $66,109              1.24 cents\n",
            "2         1810        7,239,881        $178,445              2.46 cents\n",
            "3         1820        9,633,822        $208,526              2.16 cents\n",
            "4         1830       12,866,020        $378,545              2.94 cents\n",
            "5         1840       17,069,458        $833,371              4.88 cents\n",
            "6         1850       23,191,876      $1,423,351              6.14 cents\n",
            "7         1860       31,443,321      $1,969,377              6.26 cents\n",
            "8         1870       38,558,371      $3,421,198              8.87 cents\n",
            "9         1880       50,155,783      $5,790,678             11.54 cents\n",
            "10        1890       62,979,766     $11,547,127             18.33 cents\n",
            "11        1900       76,303,387     $11,854,000             15.54 cents\n",
            "12        1910       91,972,266     $15,968,000             17.07 cents\n",
            "13        1920      105,710,620     $25,117,000             23.76 cents\n",
            "14        1930      122,775,046     $40,156,000             32.71 cents\n",
            "15        1940      131,669,275     $67,527,000             51.29 cents\n",
            "16        1950      151,325,798     $91,462,000             60.44 cents\n",
            "17        1960      179,323,175    $127,934,000             71.34 cents\n",
            "18        1970      203,302,031    $247,653,000                   $1.22\n",
            "19        1980      226,542,199  $1,078,488,000                   $4.76\n",
            "20        1990      248,718,301  $2,492,830,000                  $10.02\n",
            "21        2000      281,421,906    $4.5 Billion                  $15.99\n",
            "22       2010*      308,745,538     $13 Billion                  $42.11\n"
          ]
        }
      ]
    },
    {
      "cell_type": "code",
      "metadata": {
        "colab": {
          "base_uri": "https://localhost:8080/"
        },
        "id": "FrBO4W8p2Uzr",
        "outputId": "d716b80a-b399-443a-aa0e-8bd796382db6"
      },
      "source": [
        "df[\"Year\"] = df[\"Census Year\"].apply(lambda x: x.replace(\"*\",\"\"))\n",
        "\n",
        "df[\"Year\"]"
      ],
      "execution_count": 5,
      "outputs": [
        {
          "output_type": "execute_result",
          "data": {
            "text/plain": [
              "0     1790\n",
              "1     1800\n",
              "2     1810\n",
              "3     1820\n",
              "4     1830\n",
              "5     1840\n",
              "6     1850\n",
              "7     1860\n",
              "8     1870\n",
              "9     1880\n",
              "10    1890\n",
              "11    1900\n",
              "12    1910\n",
              "13    1920\n",
              "14    1930\n",
              "15    1940\n",
              "16    1950\n",
              "17    1960\n",
              "18    1970\n",
              "19    1980\n",
              "20    1990\n",
              "21    2000\n",
              "22    2010\n",
              "Name: Year, dtype: object"
            ]
          },
          "metadata": {},
          "execution_count": 5
        }
      ]
    },
    {
      "cell_type": "code",
      "metadata": {
        "colab": {
          "base_uri": "https://localhost:8080/"
        },
        "id": "mdng9vG82xA2",
        "outputId": "f5ea7034-4041-4dde-9faf-f7db0443b39d"
      },
      "source": [
        "df[\"Pop\"] = df[\"Total Population\"].apply(lambda x: x.replace(\",\",\"\"))\n",
        "\n",
        "df[\"Pop\"]"
      ],
      "execution_count": 6,
      "outputs": [
        {
          "output_type": "execute_result",
          "data": {
            "text/plain": [
              "0       3929214\n",
              "1       5308483\n",
              "2       7239881\n",
              "3       9633822\n",
              "4      12866020\n",
              "5      17069458\n",
              "6      23191876\n",
              "7      31443321\n",
              "8      38558371\n",
              "9      50155783\n",
              "10     62979766\n",
              "11     76303387\n",
              "12     91972266\n",
              "13    105710620\n",
              "14    122775046\n",
              "15    131669275\n",
              "16    151325798\n",
              "17    179323175\n",
              "18    203302031\n",
              "19    226542199\n",
              "20    248718301\n",
              "21    281421906\n",
              "22    308745538\n",
              "Name: Pop, dtype: object"
            ]
          },
          "metadata": {},
          "execution_count": 6
        }
      ]
    },
    {
      "cell_type": "code",
      "metadata": {
        "colab": {
          "base_uri": "https://localhost:8080/"
        },
        "id": "39WBxAaM3IHo",
        "outputId": "8fcfbb8a-2298-4bad-f216-470a2b3a654f"
      },
      "source": [
        "def cleanse_total_cost(total_cost):\n",
        "\n",
        "    cost = total_cost.replace(\"$\", \"\").replace(\",\", \"\")\n",
        "    if \"Billion\" in cost:\n",
        "        cost = cost.replace(\" Billion\", \"000000000000\")\n",
        "    if \".50\" in cost:\n",
        "        cost = cost.replace(\".50\", \"5\")\n",
        "\n",
        "    return cost\n",
        "\n",
        "df[\"Cost\"] = df[\"Census Cost\"].apply(cleanse_total_cost)\n",
        "\n",
        "df[\"Cost\"]"
      ],
      "execution_count": 7,
      "outputs": [
        {
          "output_type": "execute_result",
          "data": {
            "text/plain": [
              "0              44377\n",
              "1              66109\n",
              "2             178445\n",
              "3             208526\n",
              "4             378545\n",
              "5             833371\n",
              "6            1423351\n",
              "7            1969377\n",
              "8            3421198\n",
              "9            5790678\n",
              "10          11547127\n",
              "11          11854000\n",
              "12          15968000\n",
              "13          25117000\n",
              "14          40156000\n",
              "15          67527000\n",
              "16          91462000\n",
              "17         127934000\n",
              "18         247653000\n",
              "19        1078488000\n",
              "20        2492830000\n",
              "21     4500000000000\n",
              "22    13000000000000\n",
              "Name: Cost, dtype: object"
            ]
          },
          "metadata": {},
          "execution_count": 7
        }
      ]
    },
    {
      "cell_type": "code",
      "metadata": {
        "colab": {
          "base_uri": "https://localhost:8080/"
        },
        "id": "FYdCTUjs3cXL",
        "outputId": "5ea166ef-b9bc-489d-c667-f6f8ede0ac4e"
      },
      "source": [
        "def cleanse_average_cost(average_cost):\n",
        "    \n",
        "    if \"cents\" in average_cost:\n",
        "        cost = average_cost.replace(\" cents\", \"\")\n",
        "    else:\n",
        "        cost = average_cost.replace(\"$\", \"\").replace(\".\", \"\")\n",
        "\n",
        "    return cost\n",
        "\n",
        "df[\"Average\"] = df[\"Average Cost Per Person\"].apply(cleanse_average_cost)\n",
        "\n",
        "df[\"Average\"]"
      ],
      "execution_count": 9,
      "outputs": [
        {
          "output_type": "execute_result",
          "data": {
            "text/plain": [
              "0      1.13\n",
              "1      1.24\n",
              "2      2.46\n",
              "3      2.16\n",
              "4      2.94\n",
              "5      4.88\n",
              "6      6.14\n",
              "7      6.26\n",
              "8      8.87\n",
              "9     11.54\n",
              "10    18.33\n",
              "11    15.54\n",
              "12    17.07\n",
              "13    23.76\n",
              "14    32.71\n",
              "15    51.29\n",
              "16    60.44\n",
              "17    71.34\n",
              "18      122\n",
              "19      476\n",
              "20     1002\n",
              "21     1599\n",
              "22     4211\n",
              "Name: Average, dtype: object"
            ]
          },
          "metadata": {},
          "execution_count": 9
        }
      ]
    },
    {
      "cell_type": "code",
      "metadata": {
        "id": "BS0UaGdlE0fL",
        "outputId": "f1fd0cf3-1026-48c0-9622-7da0b572d030",
        "colab": {
          "base_uri": "https://localhost:8080/"
        }
      },
      "source": [
        "df_new = df[df.columns[4:]]\n",
        "print(df_new)"
      ],
      "execution_count": 18,
      "outputs": [
        {
          "output_type": "stream",
          "name": "stdout",
          "text": [
            "    Year        Pop            Cost Average\n",
            "0   1790    3929214           44377    1.13\n",
            "1   1800    5308483           66109    1.24\n",
            "2   1810    7239881          178445    2.46\n",
            "3   1820    9633822          208526    2.16\n",
            "4   1830   12866020          378545    2.94\n",
            "5   1840   17069458          833371    4.88\n",
            "6   1850   23191876         1423351    6.14\n",
            "7   1860   31443321         1969377    6.26\n",
            "8   1870   38558371         3421198    8.87\n",
            "9   1880   50155783         5790678   11.54\n",
            "10  1890   62979766        11547127   18.33\n",
            "11  1900   76303387        11854000   15.54\n",
            "12  1910   91972266        15968000   17.07\n",
            "13  1920  105710620        25117000   23.76\n",
            "14  1930  122775046        40156000   32.71\n",
            "15  1940  131669275        67527000   51.29\n",
            "16  1950  151325798        91462000   60.44\n",
            "17  1960  179323175       127934000   71.34\n",
            "18  1970  203302031       247653000     122\n",
            "19  1980  226542199      1078488000     476\n",
            "20  1990  248718301      2492830000    1002\n",
            "21  2000  281421906   4500000000000    1599\n",
            "22  2010  308745538  13000000000000    4211\n"
          ]
        }
      ]
    },
    {
      "cell_type": "code",
      "metadata": {
        "id": "quOyVh0iEZkQ",
        "outputId": "6cbc28b0-70c9-4e42-c416-31c333456b2a",
        "colab": {
          "base_uri": "https://localhost:8080/"
        }
      },
      "source": [
        "df_new.info()"
      ],
      "execution_count": 19,
      "outputs": [
        {
          "output_type": "stream",
          "name": "stdout",
          "text": [
            "<class 'pandas.core.frame.DataFrame'>\n",
            "RangeIndex: 23 entries, 0 to 22\n",
            "Data columns (total 4 columns):\n",
            " #   Column   Non-Null Count  Dtype \n",
            "---  ------   --------------  ----- \n",
            " 0   Year     23 non-null     object\n",
            " 1   Pop      23 non-null     object\n",
            " 2   Cost     23 non-null     object\n",
            " 3   Average  23 non-null     object\n",
            "dtypes: object(4)\n",
            "memory usage: 864.0+ bytes\n"
          ]
        }
      ]
    },
    {
      "cell_type": "code",
      "metadata": {
        "id": "KyAJab1eFC2k",
        "outputId": "01b152d5-154d-47ba-e9e1-ed0b2fb94708",
        "colab": {
          "base_uri": "https://localhost:8080/",
          "height": 175
        }
      },
      "source": [
        "df_new.describe()"
      ],
      "execution_count": 20,
      "outputs": [
        {
          "output_type": "execute_result",
          "data": {
            "text/html": [
              "<div>\n",
              "<style scoped>\n",
              "    .dataframe tbody tr th:only-of-type {\n",
              "        vertical-align: middle;\n",
              "    }\n",
              "\n",
              "    .dataframe tbody tr th {\n",
              "        vertical-align: top;\n",
              "    }\n",
              "\n",
              "    .dataframe thead th {\n",
              "        text-align: right;\n",
              "    }\n",
              "</style>\n",
              "<table border=\"1\" class=\"dataframe\">\n",
              "  <thead>\n",
              "    <tr style=\"text-align: right;\">\n",
              "      <th></th>\n",
              "      <th>Year</th>\n",
              "      <th>Pop</th>\n",
              "      <th>Cost</th>\n",
              "      <th>Average</th>\n",
              "    </tr>\n",
              "  </thead>\n",
              "  <tbody>\n",
              "    <tr>\n",
              "      <th>count</th>\n",
              "      <td>23</td>\n",
              "      <td>23</td>\n",
              "      <td>23</td>\n",
              "      <td>23</td>\n",
              "    </tr>\n",
              "    <tr>\n",
              "      <th>unique</th>\n",
              "      <td>23</td>\n",
              "      <td>23</td>\n",
              "      <td>23</td>\n",
              "      <td>23</td>\n",
              "    </tr>\n",
              "    <tr>\n",
              "      <th>top</th>\n",
              "      <td>1970</td>\n",
              "      <td>131669275</td>\n",
              "      <td>2492830000</td>\n",
              "      <td>2.16</td>\n",
              "    </tr>\n",
              "    <tr>\n",
              "      <th>freq</th>\n",
              "      <td>1</td>\n",
              "      <td>1</td>\n",
              "      <td>1</td>\n",
              "      <td>1</td>\n",
              "    </tr>\n",
              "  </tbody>\n",
              "</table>\n",
              "</div>"
            ],
            "text/plain": [
              "        Year        Pop        Cost Average\n",
              "count     23         23          23      23\n",
              "unique    23         23          23      23\n",
              "top     1970  131669275  2492830000    2.16\n",
              "freq       1          1           1       1"
            ]
          },
          "metadata": {},
          "execution_count": 20
        }
      ]
    },
    {
      "cell_type": "code",
      "metadata": {
        "id": "UpG_u9XREv0E",
        "outputId": "66a3d808-e7a2-485f-8be2-2aafc60e9210",
        "colab": {
          "base_uri": "https://localhost:8080/"
        }
      },
      "source": [
        "for column in df_new.columns:\n",
        "    if column == \"Average\":\n",
        "        df_new[column] = df_new[column].astype(float)\n",
        "    else:\n",
        "        df_new[column] = df_new[column].astype(int)\n",
        "\n",
        "df_new.info()"
      ],
      "execution_count": 22,
      "outputs": [
        {
          "output_type": "stream",
          "name": "stdout",
          "text": [
            "<class 'pandas.core.frame.DataFrame'>\n",
            "RangeIndex: 23 entries, 0 to 22\n",
            "Data columns (total 4 columns):\n",
            " #   Column   Non-Null Count  Dtype  \n",
            "---  ------   --------------  -----  \n",
            " 0   Year     23 non-null     int64  \n",
            " 1   Pop      23 non-null     int64  \n",
            " 2   Cost     23 non-null     int64  \n",
            " 3   Average  23 non-null     float64\n",
            "dtypes: float64(1), int64(3)\n",
            "memory usage: 864.0 bytes\n"
          ]
        },
        {
          "output_type": "stream",
          "name": "stderr",
          "text": [
            "/usr/local/lib/python3.7/dist-packages/ipykernel_launcher.py:5: SettingWithCopyWarning: \n",
            "A value is trying to be set on a copy of a slice from a DataFrame.\n",
            "Try using .loc[row_indexer,col_indexer] = value instead\n",
            "\n",
            "See the caveats in the documentation: https://pandas.pydata.org/pandas-docs/stable/user_guide/indexing.html#returning-a-view-versus-a-copy\n",
            "  \"\"\"\n",
            "/usr/local/lib/python3.7/dist-packages/ipykernel_launcher.py:3: SettingWithCopyWarning: \n",
            "A value is trying to be set on a copy of a slice from a DataFrame.\n",
            "Try using .loc[row_indexer,col_indexer] = value instead\n",
            "\n",
            "See the caveats in the documentation: https://pandas.pydata.org/pandas-docs/stable/user_guide/indexing.html#returning-a-view-versus-a-copy\n",
            "  This is separate from the ipykernel package so we can avoid doing imports until\n"
          ]
        }
      ]
    },
    {
      "cell_type": "code",
      "metadata": {
        "id": "dI-utr5MGMAH",
        "outputId": "d823e3af-3bda-47c6-e1dc-3378ec644200",
        "colab": {
          "base_uri": "https://localhost:8080/",
          "height": 300
        }
      },
      "source": [
        "df_new.describe()"
      ],
      "execution_count": 23,
      "outputs": [
        {
          "output_type": "execute_result",
          "data": {
            "text/html": [
              "<div>\n",
              "<style scoped>\n",
              "    .dataframe tbody tr th:only-of-type {\n",
              "        vertical-align: middle;\n",
              "    }\n",
              "\n",
              "    .dataframe tbody tr th {\n",
              "        vertical-align: top;\n",
              "    }\n",
              "\n",
              "    .dataframe thead th {\n",
              "        text-align: right;\n",
              "    }\n",
              "</style>\n",
              "<table border=\"1\" class=\"dataframe\">\n",
              "  <thead>\n",
              "    <tr style=\"text-align: right;\">\n",
              "      <th></th>\n",
              "      <th>Year</th>\n",
              "      <th>Pop</th>\n",
              "      <th>Cost</th>\n",
              "      <th>Average</th>\n",
              "    </tr>\n",
              "  </thead>\n",
              "  <tbody>\n",
              "    <tr>\n",
              "      <th>count</th>\n",
              "      <td>23.0000</td>\n",
              "      <td>2.300000e+01</td>\n",
              "      <td>2.300000e+01</td>\n",
              "      <td>23.000000</td>\n",
              "    </tr>\n",
              "    <tr>\n",
              "      <th>mean</th>\n",
              "      <td>1900.0000</td>\n",
              "      <td>1.039211e+08</td>\n",
              "      <td>7.610533e+11</td>\n",
              "      <td>336.873913</td>\n",
              "    </tr>\n",
              "    <tr>\n",
              "      <th>std</th>\n",
              "      <td>67.8233</td>\n",
              "      <td>9.622629e+07</td>\n",
              "      <td>2.827851e+12</td>\n",
              "      <td>927.824052</td>\n",
              "    </tr>\n",
              "    <tr>\n",
              "      <th>min</th>\n",
              "      <td>1790.0000</td>\n",
              "      <td>3.929214e+06</td>\n",
              "      <td>4.437700e+04</td>\n",
              "      <td>1.130000</td>\n",
              "    </tr>\n",
              "    <tr>\n",
              "      <th>25%</th>\n",
              "      <td>1845.0000</td>\n",
              "      <td>2.013067e+07</td>\n",
              "      <td>1.128361e+06</td>\n",
              "      <td>5.510000</td>\n",
              "    </tr>\n",
              "    <tr>\n",
              "      <th>50%</th>\n",
              "      <td>1900.0000</td>\n",
              "      <td>7.630339e+07</td>\n",
              "      <td>1.185400e+07</td>\n",
              "      <td>17.070000</td>\n",
              "    </tr>\n",
              "    <tr>\n",
              "      <th>75%</th>\n",
              "      <td>1955.0000</td>\n",
              "      <td>1.653245e+08</td>\n",
              "      <td>1.096980e+08</td>\n",
              "      <td>65.890000</td>\n",
              "    </tr>\n",
              "    <tr>\n",
              "      <th>max</th>\n",
              "      <td>2010.0000</td>\n",
              "      <td>3.087455e+08</td>\n",
              "      <td>1.300000e+13</td>\n",
              "      <td>4211.000000</td>\n",
              "    </tr>\n",
              "  </tbody>\n",
              "</table>\n",
              "</div>"
            ],
            "text/plain": [
              "            Year           Pop          Cost      Average\n",
              "count    23.0000  2.300000e+01  2.300000e+01    23.000000\n",
              "mean   1900.0000  1.039211e+08  7.610533e+11   336.873913\n",
              "std      67.8233  9.622629e+07  2.827851e+12   927.824052\n",
              "min    1790.0000  3.929214e+06  4.437700e+04     1.130000\n",
              "25%    1845.0000  2.013067e+07  1.128361e+06     5.510000\n",
              "50%    1900.0000  7.630339e+07  1.185400e+07    17.070000\n",
              "75%    1955.0000  1.653245e+08  1.096980e+08    65.890000\n",
              "max    2010.0000  3.087455e+08  1.300000e+13  4211.000000"
            ]
          },
          "metadata": {},
          "execution_count": 23
        }
      ]
    },
    {
      "cell_type": "code",
      "metadata": {
        "id": "-69_1jZ7G_JN",
        "outputId": "99643f57-0d8d-421d-a075-e5dd988eb42b",
        "colab": {
          "base_uri": "https://localhost:8080/",
          "height": 421
        }
      },
      "source": [
        "df_new.plot(kind=\"bar\", x=\"Year\", y=\"Average\", figsize=(10,6))"
      ],
      "execution_count": 33,
      "outputs": [
        {
          "output_type": "execute_result",
          "data": {
            "text/plain": [
              "<matplotlib.axes._subplots.AxesSubplot at 0x7fea7fd3dc90>"
            ]
          },
          "metadata": {},
          "execution_count": 33
        },
        {
          "output_type": "display_data",
          "data": {
            "image/png": "[encoded data removed]",
            "text/plain": [
              "<Figure size 720x432 with 1 Axes>"
            ]
          },
          "metadata": {
            "needs_background": "light"
          }
        }
      ]
    },
    {
      "cell_type": "code",
      "metadata": {
        "id": "pLVOwRmMHOoV",
        "outputId": "a9ea17be-a4a7-4066-ec8f-87cb52d957e0",
        "colab": {
          "base_uri": "https://localhost:8080/",
          "height": 417
        }
      },
      "source": [
        "df_new.plot(kind=\"scatter\", x=\"Pop\", y=\"Cost\", figsize=(10,6))"
      ],
      "execution_count": 31,
      "outputs": [
        {
          "output_type": "execute_result",
          "data": {
            "text/plain": [
              "<matplotlib.axes._subplots.AxesSubplot at 0x7fea7fe46350>"
            ]
          },
          "metadata": {},
          "execution_count": 31
        },
        {
          "output_type": "display_data",
          "data": {
            "image/png": "[encoded data removed]",
            "text/plain": [
              "<Figure size 720x432 with 1 Axes>"
            ]
          },
          "metadata": {
            "needs_background": "light"
          }
        }
      ]
    }
  ]
}