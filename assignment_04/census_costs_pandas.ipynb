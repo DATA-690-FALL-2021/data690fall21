{
  "nbformat": 4,
  "nbformat_minor": 0,
  "metadata": {
    "colab": {
      "name": "census_costs_pandas.ipynb",
      "provenance": [],
      "collapsed_sections": [],
      "authorship_tag": "ABX9TyMqokVkWpyJVQAA9cGQ/Gn8",
      "include_colab_link": true
    },
    "kernelspec": {
      "name": "python3",
      "display_name": "Python 3"
    },
    "language_info": {
      "name": "python"
    }
  },
  "cells": [
    {
      "cell_type": "markdown",
      "metadata": {
        "id": "view-in-github",
        "colab_type": "text"
      },
      "source": [
        "<a href=\"https://colab.research.google.com/github/wcj365/data690fall21/blob/main/assignment_04/census_costs_pandas.ipynb\" target=\"_parent\"><img src=\"https://colab.research.google.com/assets/colab-badge.svg\" alt=\"Open In Colab\"/></a>"
      ]
    },
    {
      "cell_type": "markdown",
      "metadata": {
        "id": "OK1OKyh-1QYj"
      },
      "source": [
        "\n",
        "# Census Costs Data Cleansing with Pandas"
      ]
    },
    {
      "cell_type": "code",
      "metadata": {
        "id": "GzP92vc31TBF"
      },
      "source": [
        "import pandas as pd"
      ],
      "execution_count": 36,
      "outputs": []
    },
    {
      "cell_type": "code",
      "metadata": {
        "id": "k_mn3ndE1-Yk",
        "colab": {
          "base_uri": "https://localhost:8080/",
          "height": 771
        },
        "outputId": "5797ee65-1655-45be-e009-ecd19c87b6cf"
      },
      "source": [
        "df = pd.read_csv(\"/content/census_costs.txt\", sep=\"\\t\", skiprows=1)\n",
        "df"
      ],
      "execution_count": 37,
      "outputs": [
        {
          "output_type": "execute_result",
          "data": {
            "text/html": [
              "<div>\n",
              "<style scoped>\n",
              "    .dataframe tbody tr th:only-of-type {\n",
              "        vertical-align: middle;\n",
              "    }\n",
              "\n",
              "    .dataframe tbody tr th {\n",
              "        vertical-align: top;\n",
              "    }\n",
              "\n",
              "    .dataframe thead th {\n",
              "        text-align: right;\n",
              "    }\n",
              "</style>\n",
              "<table border=\"1\" class=\"dataframe\">\n",
              "  <thead>\n",
              "    <tr style=\"text-align: right;\">\n",
              "      <th></th>\n",
              "      <th>Census Year</th>\n",
              "      <th>Total Population</th>\n",
              "      <th>Census Cost</th>\n",
              "      <th>Average Cost Per Person</th>\n",
              "    </tr>\n",
              "  </thead>\n",
              "  <tbody>\n",
              "    <tr>\n",
              "      <th>0</th>\n",
              "      <td>1790</td>\n",
              "      <td>3,929,214</td>\n",
              "      <td>$44,377</td>\n",
              "      <td>1.13 cents</td>\n",
              "    </tr>\n",
              "    <tr>\n",
              "      <th>1</th>\n",
              "      <td>1800</td>\n",
              "      <td>5,308,483</td>\n",
              "      <td>$66,109</td>\n",
              "      <td>1.24 cents</td>\n",
              "    </tr>\n",
              "    <tr>\n",
              "      <th>2</th>\n",
              "      <td>1810</td>\n",
              "      <td>7,239,881</td>\n",
              "      <td>$178,445</td>\n",
              "      <td>2.46 cents</td>\n",
              "    </tr>\n",
              "    <tr>\n",
              "      <th>3</th>\n",
              "      <td>1820</td>\n",
              "      <td>9,633,822</td>\n",
              "      <td>$208,526</td>\n",
              "      <td>2.16 cents</td>\n",
              "    </tr>\n",
              "    <tr>\n",
              "      <th>4</th>\n",
              "      <td>1830</td>\n",
              "      <td>12,866,020</td>\n",
              "      <td>$378,545</td>\n",
              "      <td>2.94 cents</td>\n",
              "    </tr>\n",
              "    <tr>\n",
              "      <th>5</th>\n",
              "      <td>1840</td>\n",
              "      <td>17,069,458</td>\n",
              "      <td>$833,371</td>\n",
              "      <td>4.88 cents</td>\n",
              "    </tr>\n",
              "    <tr>\n",
              "      <th>6</th>\n",
              "      <td>1850</td>\n",
              "      <td>23,191,876</td>\n",
              "      <td>$1,423,351</td>\n",
              "      <td>6.14 cents</td>\n",
              "    </tr>\n",
              "    <tr>\n",
              "      <th>7</th>\n",
              "      <td>1860</td>\n",
              "      <td>31,443,321</td>\n",
              "      <td>$1,969,377</td>\n",
              "      <td>6.26 cents</td>\n",
              "    </tr>\n",
              "    <tr>\n",
              "      <th>8</th>\n",
              "      <td>1870</td>\n",
              "      <td>38,558,371</td>\n",
              "      <td>$3,421,198</td>\n",
              "      <td>8.87 cents</td>\n",
              "    </tr>\n",
              "    <tr>\n",
              "      <th>9</th>\n",
              "      <td>1880</td>\n",
              "      <td>50,155,783</td>\n",
              "      <td>$5,790,678</td>\n",
              "      <td>11.54 cents</td>\n",
              "    </tr>\n",
              "    <tr>\n",
              "      <th>10</th>\n",
              "      <td>1890</td>\n",
              "      <td>62,979,766</td>\n",
              "      <td>$11,547,127</td>\n",
              "      <td>18.33 cents</td>\n",
              "    </tr>\n",
              "    <tr>\n",
              "      <th>11</th>\n",
              "      <td>1900</td>\n",
              "      <td>76,303,387</td>\n",
              "      <td>$11,854,000</td>\n",
              "      <td>15.54 cents</td>\n",
              "    </tr>\n",
              "    <tr>\n",
              "      <th>12</th>\n",
              "      <td>1910</td>\n",
              "      <td>91,972,266</td>\n",
              "      <td>$15,968,000</td>\n",
              "      <td>17.07 cents</td>\n",
              "    </tr>\n",
              "    <tr>\n",
              "      <th>13</th>\n",
              "      <td>1920</td>\n",
              "      <td>105,710,620</td>\n",
              "      <td>$25,117,000</td>\n",
              "      <td>23.76 cents</td>\n",
              "    </tr>\n",
              "    <tr>\n",
              "      <th>14</th>\n",
              "      <td>1930</td>\n",
              "      <td>122,775,046</td>\n",
              "      <td>$40,156,000</td>\n",
              "      <td>32.71 cents</td>\n",
              "    </tr>\n",
              "    <tr>\n",
              "      <th>15</th>\n",
              "      <td>1940</td>\n",
              "      <td>131,669,275</td>\n",
              "      <td>$67,527,000</td>\n",
              "      <td>51.29 cents</td>\n",
              "    </tr>\n",
              "    <tr>\n",
              "      <th>16</th>\n",
              "      <td>1950</td>\n",
              "      <td>151,325,798</td>\n",
              "      <td>$91,462,000</td>\n",
              "      <td>60.44 cents</td>\n",
              "    </tr>\n",
              "    <tr>\n",
              "      <th>17</th>\n",
              "      <td>1960</td>\n",
              "      <td>179,323,175</td>\n",
              "      <td>$127,934,000</td>\n",
              "      <td>71.34 cents</td>\n",
              "    </tr>\n",
              "    <tr>\n",
              "      <th>18</th>\n",
              "      <td>1970</td>\n",
              "      <td>203,302,031</td>\n",
              "      <td>$247,653,000</td>\n",
              "      <td>$1.22</td>\n",
              "    </tr>\n",
              "    <tr>\n",
              "      <th>19</th>\n",
              "      <td>1980</td>\n",
              "      <td>226,542,199</td>\n",
              "      <td>$1,078,488,000</td>\n",
              "      <td>$4.76</td>\n",
              "    </tr>\n",
              "    <tr>\n",
              "      <th>20</th>\n",
              "      <td>1990</td>\n",
              "      <td>248,718,301</td>\n",
              "      <td>$2,492,830,000</td>\n",
              "      <td>$10.02</td>\n",
              "    </tr>\n",
              "    <tr>\n",
              "      <th>21</th>\n",
              "      <td>2000</td>\n",
              "      <td>281,421,906</td>\n",
              "      <td>$4.5 Billion</td>\n",
              "      <td>$15.99</td>\n",
              "    </tr>\n",
              "    <tr>\n",
              "      <th>22</th>\n",
              "      <td>2010*</td>\n",
              "      <td>308,745,538</td>\n",
              "      <td>$13 Billion</td>\n",
              "      <td>$42.11</td>\n",
              "    </tr>\n",
              "  </tbody>\n",
              "</table>\n",
              "</div>"
            ],
            "text/plain": [
              "   Census Year Total Population     Census Cost Average Cost Per Person\n",
              "0         1790        3,929,214         $44,377              1.13 cents\n",
              "1         1800        5,308,483         $66,109              1.24 cents\n",
              "2         1810        7,239,881        $178,445              2.46 cents\n",
              "3         1820        9,633,822        $208,526              2.16 cents\n",
              "4         1830       12,866,020        $378,545              2.94 cents\n",
              "5         1840       17,069,458        $833,371              4.88 cents\n",
              "6         1850       23,191,876      $1,423,351              6.14 cents\n",
              "7         1860       31,443,321      $1,969,377              6.26 cents\n",
              "8         1870       38,558,371      $3,421,198              8.87 cents\n",
              "9         1880       50,155,783      $5,790,678             11.54 cents\n",
              "10        1890       62,979,766     $11,547,127             18.33 cents\n",
              "11        1900       76,303,387     $11,854,000             15.54 cents\n",
              "12        1910       91,972,266     $15,968,000             17.07 cents\n",
              "13        1920      105,710,620     $25,117,000             23.76 cents\n",
              "14        1930      122,775,046     $40,156,000             32.71 cents\n",
              "15        1940      131,669,275     $67,527,000             51.29 cents\n",
              "16        1950      151,325,798     $91,462,000             60.44 cents\n",
              "17        1960      179,323,175    $127,934,000             71.34 cents\n",
              "18        1970      203,302,031    $247,653,000                   $1.22\n",
              "19        1980      226,542,199  $1,078,488,000                   $4.76\n",
              "20        1990      248,718,301  $2,492,830,000                  $10.02\n",
              "21        2000      281,421,906    $4.5 Billion                  $15.99\n",
              "22       2010*      308,745,538     $13 Billion                  $42.11"
            ]
          },
          "metadata": {},
          "execution_count": 37
        }
      ]
    },
    {
      "cell_type": "code",
      "metadata": {
        "colab": {
          "base_uri": "https://localhost:8080/"
        },
        "id": "FrBO4W8p2Uzr",
        "outputId": "8e39d343-af76-401b-c88d-e28cc8bde412"
      },
      "source": [
        "df[\"Year\"] = df[\"Census Year\"].apply(lambda x: x.replace(\"*\",\"\"))\n",
        "\n",
        "df[\"Year\"]"
      ],
      "execution_count": 42,
      "outputs": [
        {
          "output_type": "execute_result",
          "data": {
            "text/plain": [
              "0     1790\n",
              "1     1800\n",
              "2     1810\n",
              "3     1820\n",
              "4     1830\n",
              "5     1840\n",
              "6     1850\n",
              "7     1860\n",
              "8     1870\n",
              "9     1880\n",
              "10    1890\n",
              "11    1900\n",
              "12    1910\n",
              "13    1920\n",
              "14    1930\n",
              "15    1940\n",
              "16    1950\n",
              "17    1960\n",
              "18    1970\n",
              "19    1980\n",
              "20    1990\n",
              "21    2000\n",
              "22    2010\n",
              "Name: Year, dtype: object"
            ]
          },
          "metadata": {},
          "execution_count": 42
        }
      ]
    },
    {
      "cell_type": "code",
      "metadata": {
        "colab": {
          "base_uri": "https://localhost:8080/"
        },
        "id": "mdng9vG82xA2",
        "outputId": "102b4001-2c47-4835-cc3e-b06458b3dc19"
      },
      "source": [
        "df[\"Pop\"] = df[\"Total Population\"].apply(lambda x: x.replace(\",\",\"\"))\n",
        "\n",
        "df[\"Pop\"]"
      ],
      "execution_count": 43,
      "outputs": [
        {
          "output_type": "execute_result",
          "data": {
            "text/plain": [
              "0       3929214\n",
              "1       5308483\n",
              "2       7239881\n",
              "3       9633822\n",
              "4      12866020\n",
              "5      17069458\n",
              "6      23191876\n",
              "7      31443321\n",
              "8      38558371\n",
              "9      50155783\n",
              "10     62979766\n",
              "11     76303387\n",
              "12     91972266\n",
              "13    105710620\n",
              "14    122775046\n",
              "15    131669275\n",
              "16    151325798\n",
              "17    179323175\n",
              "18    203302031\n",
              "19    226542199\n",
              "20    248718301\n",
              "21    281421906\n",
              "22    308745538\n",
              "Name: Pop, dtype: object"
            ]
          },
          "metadata": {},
          "execution_count": 43
        }
      ]
    },
    {
      "cell_type": "code",
      "metadata": {
        "colab": {
          "base_uri": "https://localhost:8080/"
        },
        "id": "39WBxAaM3IHo",
        "outputId": "e62aa7af-b9ce-4283-8944-9fce01169ca1"
      },
      "source": [
        "def cleanse_total_cost(total_cost):\n",
        "\n",
        "    cost = total_cost.replace(\"$\", \"\").replace(\",\", \"\")\n",
        "    if \"Billion\" in cost:\n",
        "        cost = cost.replace(\" Billion\", \"000000000000\")\n",
        "    if \".50\" in cost:\n",
        "        cost = cost.replace(\".50\", \"5\")\n",
        "\n",
        "    return cost\n",
        "\n",
        "df[\"Cost\"] = df[\"Census Cost\"].apply(cleanse_total_cost)\n",
        "\n",
        "df[\"Cost\"]"
      ],
      "execution_count": 47,
      "outputs": [
        {
          "output_type": "execute_result",
          "data": {
            "text/plain": [
              "0              44377\n",
              "1              66109\n",
              "2             178445\n",
              "3             208526\n",
              "4             378545\n",
              "5             833371\n",
              "6            1423351\n",
              "7            1969377\n",
              "8            3421198\n",
              "9            5790678\n",
              "10          11547127\n",
              "11          11854000\n",
              "12          15968000\n",
              "13          25117000\n",
              "14          40156000\n",
              "15          67527000\n",
              "16          91462000\n",
              "17         127934000\n",
              "18         247653000\n",
              "19        1078488000\n",
              "20        2492830000\n",
              "21     4500000000000\n",
              "22    13000000000000\n",
              "Name: Cost, dtype: object"
            ]
          },
          "metadata": {},
          "execution_count": 47
        }
      ]
    },
    {
      "cell_type": "code",
      "metadata": {
        "colab": {
          "base_uri": "https://localhost:8080/"
        },
        "id": "FYdCTUjs3cXL",
        "outputId": "2bd4f7da-db68-4215-8695-4f28644b33cb"
      },
      "source": [
        "def cleanse_average_cost(average_cost):\n",
        "    \n",
        "    if \"cents\" in average_cost:\n",
        "        cost = average_cost.replace(\" cents/\", \"\")\n",
        "    else:\n",
        "        cost = average_cost.replace(\"$\", \"\").replace(\".\", \"\")\n",
        "\n",
        "    return cost\n",
        "\n",
        "df[\"Average\"] = df[\"Average Cost Per Person\"].apply(cleanse_average_cost)\n",
        "\n",
        "df[\"Average\"]\n"
      ],
      "execution_count": 50,
      "outputs": [
        {
          "output_type": "execute_result",
          "data": {
            "text/plain": [
              "0      1.13 cents\n",
              "1      1.24 cents\n",
              "2      2.46 cents\n",
              "3      2.16 cents\n",
              "4      2.94 cents\n",
              "5      4.88 cents\n",
              "6      6.14 cents\n",
              "7      6.26 cents\n",
              "8      8.87 cents\n",
              "9     11.54 cents\n",
              "10    18.33 cents\n",
              "11    15.54 cents\n",
              "12    17.07 cents\n",
              "13    23.76 cents\n",
              "14    32.71 cents\n",
              "15    51.29 cents\n",
              "16    60.44 cents\n",
              "17    71.34 cents\n",
              "18            122\n",
              "19            476\n",
              "20           1002\n",
              "21           1599\n",
              "22           4211\n",
              "Name: Average, dtype: object"
            ]
          },
          "metadata": {},
          "execution_count": 50
        }
      ]
    },
    {
      "cell_type": "code",
      "metadata": {
        "colab": {
          "base_uri": "https://localhost:8080/"
        },
        "id": "BPC-KQRy5aM2",
        "outputId": "c8410b0b-1e53-4320-8f15-4aa51dd12dc5"
      },
      "source": [
        "pop_list_cleansed = [int(pop.replace(\",\",\"\")) for pop in pop_list]\n",
        "pop_list_cleansed"
      ],
      "execution_count": 7,
      "outputs": [
        {
          "output_type": "execute_result",
          "data": {
            "text/plain": [
              "[3929214,\n",
              " 5308483,\n",
              " 7239881,\n",
              " 9633822,\n",
              " 12866020,\n",
              " 17069458,\n",
              " 23191876,\n",
              " 31443321,\n",
              " 38558371,\n",
              " 50155783,\n",
              " 62979766,\n",
              " 76303387,\n",
              " 91972266,\n",
              " 105710620,\n",
              " 122775046,\n",
              " 131669275,\n",
              " 151325798,\n",
              " 179323175,\n",
              " 203302031,\n",
              " 226542199,\n",
              " 248718301,\n",
              " 281421906,\n",
              " 308745538]"
            ]
          },
          "metadata": {},
          "execution_count": 7
        }
      ]
    },
    {
      "cell_type": "code",
      "metadata": {
        "colab": {
          "base_uri": "https://localhost:8080/"
        },
        "id": "o04zUfDh0Mjl",
        "outputId": "58532273-a5ca-49cb-98da-1bd29f2a8388"
      },
      "source": [
        "cost_list = [line.split(\"\\t\")[2] for line in data_lines]\n",
        "cost_list"
      ],
      "execution_count": 15,
      "outputs": [
        {
          "output_type": "execute_result",
          "data": {
            "text/plain": [
              "['$44,377',\n",
              " '$66,109',\n",
              " '$178,445',\n",
              " '$208,526',\n",
              " '$378,545',\n",
              " '$833,371',\n",
              " '$1,423,351',\n",
              " '$1,969,377',\n",
              " '$3,421,198',\n",
              " '$5,790,678',\n",
              " '$11,547,127',\n",
              " '$11,854,000',\n",
              " '$15,968,000',\n",
              " '$25,117,000',\n",
              " '$40,156,000',\n",
              " '$67,527,000',\n",
              " '$91,462,000',\n",
              " '$127,934,000',\n",
              " '$247,653,000',\n",
              " '$1,078,488,000',\n",
              " '$2,492,830,000',\n",
              " '$4.5 Billion',\n",
              " '$13 Billion']"
            ]
          },
          "metadata": {},
          "execution_count": 15
        }
      ]
    },
    {
      "cell_type": "code",
      "metadata": {
        "colab": {
          "base_uri": "https://localhost:8080/"
        },
        "id": "KOEjIvvc09ym",
        "outputId": "1938b5cd-0723-4ea2-ffd3-27c411f710e4"
      },
      "source": [
        "cost_list_cleansed = [cost.replace(\"$\", \"\") for cost in cost_list]\n",
        "cost_list_cleansed"
      ],
      "execution_count": 16,
      "outputs": [
        {
          "output_type": "execute_result",
          "data": {
            "text/plain": [
              "['44,377',\n",
              " '66,109',\n",
              " '178,445',\n",
              " '208,526',\n",
              " '378,545',\n",
              " '833,371',\n",
              " '1,423,351',\n",
              " '1,969,377',\n",
              " '3,421,198',\n",
              " '5,790,678',\n",
              " '11,547,127',\n",
              " '11,854,000',\n",
              " '15,968,000',\n",
              " '25,117,000',\n",
              " '40,156,000',\n",
              " '67,527,000',\n",
              " '91,462,000',\n",
              " '127,934,000',\n",
              " '247,653,000',\n",
              " '1,078,488,000',\n",
              " '2,492,830,000',\n",
              " '4.5 Billion',\n",
              " '13 Billion']"
            ]
          },
          "metadata": {},
          "execution_count": 16
        }
      ]
    },
    {
      "cell_type": "code",
      "metadata": {
        "colab": {
          "base_uri": "https://localhost:8080/"
        },
        "id": "RCax53UR1NQw",
        "outputId": "ebc75c99-d2e5-4fdd-e33a-e4f9c5561797"
      },
      "source": [
        "cost_list_cleansed = [cost.replace(\",\", \"\") for cost in cost_list_cleansed]\n",
        "cost_list_cleansed"
      ],
      "execution_count": 17,
      "outputs": [
        {
          "output_type": "execute_result",
          "data": {
            "text/plain": [
              "['44377',\n",
              " '66109',\n",
              " '178445',\n",
              " '208526',\n",
              " '378545',\n",
              " '833371',\n",
              " '1423351',\n",
              " '1969377',\n",
              " '3421198',\n",
              " '5790678',\n",
              " '11547127',\n",
              " '11854000',\n",
              " '15968000',\n",
              " '25117000',\n",
              " '40156000',\n",
              " '67527000',\n",
              " '91462000',\n",
              " '127934000',\n",
              " '247653000',\n",
              " '1078488000',\n",
              " '2492830000',\n",
              " '4.5 Billion',\n",
              " '13 Billion']"
            ]
          },
          "metadata": {},
          "execution_count": 17
        }
      ]
    },
    {
      "cell_type": "code",
      "metadata": {
        "colab": {
          "base_uri": "https://localhost:8080/"
        },
        "id": "QiB9l4Ci1dk1",
        "outputId": "6219c15d-abed-4f74-d637-6188edfbd9b1"
      },
      "source": [
        "cost_list_cleansed = [cost.replace(\" Billion\", \"000000000000\") for cost in cost_list_cleansed]\n",
        "cost_list_cleansed"
      ],
      "execution_count": 18,
      "outputs": [
        {
          "output_type": "execute_result",
          "data": {
            "text/plain": [
              "['44377',\n",
              " '66109',\n",
              " '178445',\n",
              " '208526',\n",
              " '378545',\n",
              " '833371',\n",
              " '1423351',\n",
              " '1969377',\n",
              " '3421198',\n",
              " '5790678',\n",
              " '11547127',\n",
              " '11854000',\n",
              " '15968000',\n",
              " '25117000',\n",
              " '40156000',\n",
              " '67527000',\n",
              " '91462000',\n",
              " '127934000',\n",
              " '247653000',\n",
              " '1078488000',\n",
              " '2492830000',\n",
              " '4.5000000000000',\n",
              " '13000000000000']"
            ]
          },
          "metadata": {},
          "execution_count": 18
        }
      ]
    },
    {
      "cell_type": "code",
      "metadata": {
        "colab": {
          "base_uri": "https://localhost:8080/"
        },
        "id": "WkgzgSOR2B3E",
        "outputId": "8e6f46ae-900c-4d3b-d836-a2e78a612416"
      },
      "source": [
        "cost_list_cleansed = [cost.replace(\".50\", \"5\") for cost in cost_list_cleansed]\n",
        "cost_list_cleansed"
      ],
      "execution_count": 19,
      "outputs": [
        {
          "output_type": "execute_result",
          "data": {
            "text/plain": [
              "['44377',\n",
              " '66109',\n",
              " '178445',\n",
              " '208526',\n",
              " '378545',\n",
              " '833371',\n",
              " '1423351',\n",
              " '1969377',\n",
              " '3421198',\n",
              " '5790678',\n",
              " '11547127',\n",
              " '11854000',\n",
              " '15968000',\n",
              " '25117000',\n",
              " '40156000',\n",
              " '67527000',\n",
              " '91462000',\n",
              " '127934000',\n",
              " '247653000',\n",
              " '1078488000',\n",
              " '2492830000',\n",
              " '4500000000000',\n",
              " '13000000000000']"
            ]
          },
          "metadata": {},
          "execution_count": 19
        }
      ]
    },
    {
      "cell_type": "code",
      "metadata": {
        "colab": {
          "base_uri": "https://localhost:8080/"
        },
        "id": "0qpZG9GX2QWm",
        "outputId": "0ae2fe34-2904-4824-f29c-be14bd9aa725"
      },
      "source": [
        "cost_list_cleansed = [int(cost) for cost in cost_list_cleansed]\n",
        "cost_list_cleansed"
      ],
      "execution_count": 20,
      "outputs": [
        {
          "output_type": "execute_result",
          "data": {
            "text/plain": [
              "[44377,\n",
              " 66109,\n",
              " 178445,\n",
              " 208526,\n",
              " 378545,\n",
              " 833371,\n",
              " 1423351,\n",
              " 1969377,\n",
              " 3421198,\n",
              " 5790678,\n",
              " 11547127,\n",
              " 11854000,\n",
              " 15968000,\n",
              " 25117000,\n",
              " 40156000,\n",
              " 67527000,\n",
              " 91462000,\n",
              " 127934000,\n",
              " 247653000,\n",
              " 1078488000,\n",
              " 2492830000,\n",
              " 4500000000000,\n",
              " 13000000000000]"
            ]
          },
          "metadata": {},
          "execution_count": 20
        }
      ]
    },
    {
      "cell_type": "code",
      "metadata": {
        "colab": {
          "base_uri": "https://localhost:8080/"
        },
        "id": "J9gTv-Jq2YQU",
        "outputId": "507dae0e-1c71-4a64-d280-bcbc5f27276e"
      },
      "source": [
        "average_list = [line.split(\"\\t\")[3] for line in data_lines]\n",
        "average_list"
      ],
      "execution_count": 29,
      "outputs": [
        {
          "output_type": "execute_result",
          "data": {
            "text/plain": [
              "['1.13 cents\\n',\n",
              " '1.24 cents\\n',\n",
              " '2.46 cents\\n',\n",
              " '2.16 cents\\n',\n",
              " '2.94 cents\\n',\n",
              " '4.88 cents\\n',\n",
              " '6.14 cents\\n',\n",
              " '6.26 cents\\n',\n",
              " '8.87 cents\\n',\n",
              " '11.54 cents\\n',\n",
              " '18.33 cents\\n',\n",
              " '15.54 cents\\n',\n",
              " '17.07 cents\\n',\n",
              " '23.76 cents\\n',\n",
              " '32.71 cents\\n',\n",
              " '51.29 cents\\n',\n",
              " '60.44 cents\\n',\n",
              " '71.34 cents\\n',\n",
              " '$1.22\\n',\n",
              " '$4.76\\n',\n",
              " '$10.02\\n',\n",
              " '$15.99\\n',\n",
              " '$42.11']"
            ]
          },
          "metadata": {},
          "execution_count": 29
        }
      ]
    },
    {
      "cell_type": "code",
      "metadata": {
        "colab": {
          "base_uri": "https://localhost:8080/"
        },
        "id": "8aVW-0Ik2ev5",
        "outputId": "2f644290-9725-47a0-a32f-b5bc1d122122"
      },
      "source": [
        "average_list_cleansed = [average.replace(\"cents\\n\", \"\").replace(\"\\n\",\"\") for average in average_list]\n",
        "average_list_cleansed"
      ],
      "execution_count": 30,
      "outputs": [
        {
          "output_type": "execute_result",
          "data": {
            "text/plain": [
              "['1.13 ',\n",
              " '1.24 ',\n",
              " '2.46 ',\n",
              " '2.16 ',\n",
              " '2.94 ',\n",
              " '4.88 ',\n",
              " '6.14 ',\n",
              " '6.26 ',\n",
              " '8.87 ',\n",
              " '11.54 ',\n",
              " '18.33 ',\n",
              " '15.54 ',\n",
              " '17.07 ',\n",
              " '23.76 ',\n",
              " '32.71 ',\n",
              " '51.29 ',\n",
              " '60.44 ',\n",
              " '71.34 ',\n",
              " '$1.22',\n",
              " '$4.76',\n",
              " '$10.02',\n",
              " '$15.99',\n",
              " '$42.11']"
            ]
          },
          "metadata": {},
          "execution_count": 30
        }
      ]
    },
    {
      "cell_type": "code",
      "metadata": {
        "colab": {
          "base_uri": "https://localhost:8080/"
        },
        "id": "uWG2z0uU28Dn",
        "outputId": "5f6f207c-288d-4d3f-9d91-ad9673005623"
      },
      "source": [
        "avg_list_cleansed = []\n",
        "for avg in average_list_cleansed:\n",
        "    if \"$\" in avg:\n",
        "        avg =round(float(avg.replace(\"$\",\"\")),2)\n",
        "    else:\n",
        "        avg = round(float(avg) / 100, 2)\n",
        "    avg_list_cleansed.append(avg)\n",
        "\n",
        "avg_list_cleansed"
      ],
      "execution_count": 31,
      "outputs": [
        {
          "output_type": "execute_result",
          "data": {
            "text/plain": [
              "[0.01,\n",
              " 0.01,\n",
              " 0.02,\n",
              " 0.02,\n",
              " 0.03,\n",
              " 0.05,\n",
              " 0.06,\n",
              " 0.06,\n",
              " 0.09,\n",
              " 0.12,\n",
              " 0.18,\n",
              " 0.16,\n",
              " 0.17,\n",
              " 0.24,\n",
              " 0.33,\n",
              " 0.51,\n",
              " 0.6,\n",
              " 0.71,\n",
              " 1.22,\n",
              " 4.76,\n",
              " 10.02,\n",
              " 15.99,\n",
              " 42.11]"
            ]
          },
          "metadata": {},
          "execution_count": 31
        }
      ]
    },
    {
      "cell_type": "code",
      "metadata": {
        "id": "UcsLx56d4kgL"
      },
      "source": [
        "with open(\"census_costs2.txt\", \"w\") as f:\n",
        "    f.writelines([top2_lines[0]])\n",
        "    f.writelines([top2_lines[1]])\n",
        "    for i in range(len(year_list_cleansed)):\n",
        "        f.write(year_list_cleansed[i])\n",
        "        f.write(\",\")\n",
        "        f.write(str(pop_list_cleansed[i]))\n",
        "        f.write(\",\")\n",
        "        f.write(str(cost_list_cleansed[i]))\n",
        "        f.write(\",\")\n",
        "        f.write(str(avg_list_cleansed[i]))\n",
        "        f.write(\"\\n\")\n",
        "\n",
        "\n",
        "\n"
      ],
      "execution_count": 35,
      "outputs": []
    }
  ]
}